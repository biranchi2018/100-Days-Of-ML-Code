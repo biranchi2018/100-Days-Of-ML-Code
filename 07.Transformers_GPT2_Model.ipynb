{
  "nbformat": 4,
  "nbformat_minor": 0,
  "metadata": {
    "colab": {
      "provenance": [],
      "authorship_tag": "ABX9TyPiWP6LBYju3GDgSolquGAo",
      "include_colab_link": true
    },
    "kernelspec": {
      "name": "python3",
      "display_name": "Python 3"
    },
    "language_info": {
      "name": "python"
    }
  },
  "cells": [
    {
      "cell_type": "markdown",
      "metadata": {
        "id": "view-in-github",
        "colab_type": "text"
      },
      "source": [
        "<a href=\"https://colab.research.google.com/github/biranchi2018/100-Days-Of-ML-Code/blob/master/07.Transformers_GPT2_Model.ipynb\" target=\"_parent\"><img src=\"https://colab.research.google.com/assets/colab-badge.svg\" alt=\"Open In Colab\"/></a>"
      ]
    },
    {
      "cell_type": "markdown",
      "source": [
        "## GPT2 Model"
      ],
      "metadata": {
        "id": "K_GWVijk37MP"
      }
    },
    {
      "cell_type": "code",
      "execution_count": 15,
      "metadata": {
        "id": "UWi8hXXq36PO"
      },
      "outputs": [],
      "source": [
        "from transformers import GPT2LMHeadModel, GPT2Tokenizer\n",
        "import torch"
      ]
    },
    {
      "cell_type": "code",
      "source": [
        "# Load pre-trained GPT-2 model & tokenizer\n",
        "model = GPT2LMHeadModel.from_pretrained(\"gpt2\")\n",
        "tokenizer = GPT2Tokenizer.from_pretrained(\"gpt2\")"
      ],
      "metadata": {
        "id": "mrj-xMmK4H3O"
      },
      "execution_count": 16,
      "outputs": []
    },
    {
      "cell_type": "code",
      "source": [
        "print(f\"tokenizer : {tokenizer}\")"
      ],
      "metadata": {
        "colab": {
          "base_uri": "https://localhost:8080/"
        },
        "id": "pyoiHWuI4X4g",
        "outputId": "33181562-cf8e-408b-f2bf-85bad27d2886"
      },
      "execution_count": 17,
      "outputs": [
        {
          "output_type": "stream",
          "name": "stdout",
          "text": [
            "tokenizer : GPT2Tokenizer(name_or_path='gpt2', vocab_size=50257, model_max_length=1024, is_fast=False, padding_side='right', truncation_side='right', special_tokens={'bos_token': '<|endoftext|>', 'eos_token': '<|endoftext|>', 'unk_token': '<|endoftext|>'}, clean_up_tokenization_spaces=False, added_tokens_decoder={\n",
            "\t50256: AddedToken(\"<|endoftext|>\", rstrip=False, lstrip=False, single_word=False, normalized=True, special=True),\n",
            "}\n",
            ")\n"
          ]
        }
      ]
    },
    {
      "cell_type": "code",
      "source": [
        "tokenizer"
      ],
      "metadata": {
        "colab": {
          "base_uri": "https://localhost:8080/"
        },
        "id": "eOEtC3RL4ffs",
        "outputId": "1f9b6aed-198c-4409-e9a6-4edbaa856947"
      },
      "execution_count": 18,
      "outputs": [
        {
          "output_type": "execute_result",
          "data": {
            "text/plain": [
              "GPT2Tokenizer(name_or_path='gpt2', vocab_size=50257, model_max_length=1024, is_fast=False, padding_side='right', truncation_side='right', special_tokens={'bos_token': '<|endoftext|>', 'eos_token': '<|endoftext|>', 'unk_token': '<|endoftext|>'}, clean_up_tokenization_spaces=False, added_tokens_decoder={\n",
              "\t50256: AddedToken(\"<|endoftext|>\", rstrip=False, lstrip=False, single_word=False, normalized=True, special=True),\n",
              "}\n",
              ")"
            ]
          },
          "metadata": {},
          "execution_count": 18
        }
      ]
    },
    {
      "cell_type": "code",
      "source": [
        "print(f\"tokenizer.pad_token : {tokenizer.pad_token}\")\n",
        "print(f\"tokenizer.eos_token : {tokenizer.eos_token}\")\n",
        "print(f\"tokenizer.bos_token : {tokenizer.bos_token}\")"
      ],
      "metadata": {
        "colab": {
          "base_uri": "https://localhost:8080/"
        },
        "id": "7pI0-45P4KAv",
        "outputId": "5ddebfe7-c800-48f0-af2c-9e1dcf23391f"
      },
      "execution_count": 19,
      "outputs": [
        {
          "output_type": "stream",
          "name": "stdout",
          "text": [
            "tokenizer.pad_token : None\n",
            "tokenizer.eos_token : <|endoftext|>\n",
            "tokenizer.bos_token : <|endoftext|>\n"
          ]
        }
      ]
    },
    {
      "cell_type": "code",
      "source": [
        "# Prompt\n",
        "prompt = \"Once upon a time\"\n",
        "\n",
        "# Encode prompt\n",
        "input_ids = tokenizer.encode(prompt, return_tensors=\"pt\")\n",
        "\n",
        "print(input_ids)"
      ],
      "metadata": {
        "colab": {
          "base_uri": "https://localhost:8080/"
        },
        "id": "-xFXBamr5vzN",
        "outputId": "e9a850e5-fb90-4700-9401-93f725bbef2c"
      },
      "execution_count": 20,
      "outputs": [
        {
          "output_type": "stream",
          "name": "stdout",
          "text": [
            "tensor([[7454, 2402,  257,  640]])\n"
          ]
        }
      ]
    },
    {
      "cell_type": "code",
      "source": [
        "# Sampling settings\n",
        "outputs = model.generate(\n",
        "    input_ids,\n",
        "    max_length=50,\n",
        "    do_sample=True,             # Enable sampling (not greedy)\n",
        "    temperature=0.1,            # 0.2 = predictable, 1.0 = creative\n",
        "    top_k=50,                   # Consider only top 50 tokens\n",
        "    top_p=0.9,                  # Use nucleus sampling (90% cumulative prob)\n",
        "    num_return_sequences=1      # Number of outputs\n",
        ")\n",
        "\n",
        "# Decode & print\n",
        "print()\n",
        "print(f\"outputs : {outputs}\")\n",
        "print()\n",
        "print(f\"outputs.shape : {outputs.shape}\")\n",
        "print()\n",
        "print(f\"outputs[0] : {outputs[0]}\")\n",
        "print()\n",
        "print(f\"outputs[0].shape : {outputs[0].shape}\")\n",
        "print()\n",
        "print(f\"tokenizer.decode(outputs[0]) : {tokenizer.decode(outputs[0])}\")\n",
        "print()\n",
        "print(f\"Result: {tokenizer.decode(outputs[0], skip_special_tokens=True)}\")\n"
      ],
      "metadata": {
        "colab": {
          "base_uri": "https://localhost:8080/"
        },
        "id": "xqXdIoda38Nn",
        "outputId": "bb6c37b4-dee8-4428-a850-27b37cb86dd0"
      },
      "execution_count": 21,
      "outputs": [
        {
          "output_type": "stream",
          "name": "stderr",
          "text": [
            "The attention mask and the pad token id were not set. As a consequence, you may observe unexpected behavior. Please pass your input's `attention_mask` to obtain reliable results.\n",
            "Setting `pad_token_id` to `eos_token_id`:50256 for open-end generation.\n"
          ]
        },
        {
          "output_type": "stream",
          "name": "stdout",
          "text": [
            "\n",
            "outputs : tensor([[7454, 2402,  257,  640,   11,  262,  995,  373,  257, 1295,  286, 1049,\n",
            "         8737,  290, 1049, 3514,   13,  887,  783,   11,  262,  995,  318,  257,\n",
            "         1295,  286, 1049, 3514,   13,  843,  783,   11,  262,  995,  318,  257,\n",
            "         1295,  286, 1049, 3514,   13,  843,  783,   11,  262,  995,  318,  257,\n",
            "         1295,  286]])\n",
            "\n",
            "outputs.shape : torch.Size([1, 50])\n",
            "\n",
            "outputs[0] : tensor([7454, 2402,  257,  640,   11,  262,  995,  373,  257, 1295,  286, 1049,\n",
            "        8737,  290, 1049, 3514,   13,  887,  783,   11,  262,  995,  318,  257,\n",
            "        1295,  286, 1049, 3514,   13,  843,  783,   11,  262,  995,  318,  257,\n",
            "        1295,  286, 1049, 3514,   13,  843,  783,   11,  262,  995,  318,  257,\n",
            "        1295,  286])\n",
            "\n",
            "outputs[0].shape : torch.Size([50])\n",
            "\n",
            "tokenizer.decode(outputs[0]) : Once upon a time, the world was a place of great beauty and great danger. But now, the world is a place of great danger. And now, the world is a place of great danger. And now, the world is a place of\n",
            "\n",
            "Result: Once upon a time, the world was a place of great beauty and great danger. But now, the world is a place of great danger. And now, the world is a place of great danger. And now, the world is a place of\n"
          ]
        }
      ]
    },
    {
      "cell_type": "code",
      "source": [],
      "metadata": {
        "id": "y32jgluU4JX_"
      },
      "execution_count": 21,
      "outputs": []
    }
  ]
}